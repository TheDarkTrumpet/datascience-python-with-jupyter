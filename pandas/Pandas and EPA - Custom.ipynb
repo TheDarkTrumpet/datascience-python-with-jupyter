{
 "cells": [
  {
   "cell_type": "markdown",
   "metadata": {},
   "source": [
    "# Pandas and EPA\n",
    "\n",
    "## Introduction\n",
    "\n",
    "This notebook demonstrates querying the EPA API for air quality and serializing the data as a Pandas DataFrame\n",
    "\n",
    "This uses two libraries to deal with the request, pandas and requests.  Requests is used to do the actual query and returning of JSON, whereas Pandas is used for visualizing the results that are returned.\n",
    "\n",
    "This specific example gets air quality measures (PM2.5) in Iowa, using the TEST API for 01/01/2019 - 2019/01/31.\n",
    "\n",
    "## Requirements\n",
    "\n",
    "Libraries: Pandas, requests"
   ]
  },
  {
   "cell_type": "code",
   "execution_count": 1,
   "metadata": {},
   "outputs": [],
   "source": [
    "import pandas as pd\n",
    "import requests"
   ]
  },
  {
   "cell_type": "code",
   "execution_count": null,
   "metadata": {},
   "outputs": [],
   "source": [
    "user_email = \"user_email\"\n",
    "user_key = \"user_key\""
   ]
  },
  {
   "cell_type": "code",
   "execution_count": 2,
   "metadata": {},
   "outputs": [
    {
     "name": "stdout",
     "output_type": "stream",
     "text": [
      "200\n"
     ]
    },
    {
     "data": {
      "text/plain": [
       "'{\\n  \"Header\": [\\n    {\\n      \"status\": \"Success\",\\n      \"request_time\": \"2019-11-30T13:39:20-05:00\",\\n      \"url\": \"https://aqs.epa.gov/data/api/qaCollocatedAssessments/byState?email=test@aqs.api&key=test&param=88101&bdate=20190101&edate=20190131&state=19\",\\n      \"rows\": 20\\n    }\\n  ],\\n  \"Data\": [\\n    {\\n      \"state_code\": \"19\",\\n      \"county_code\": \"153\",\\n      \"site_number\": \"0030\",\\n      \"parameter_code\": \"88101\",\\n      \"primary_poc\": 1,\\n      \"collocated_poc\": 2,\\n      \"parameter\": \"PM2.5 - Loc'"
      ]
     },
     "execution_count": 2,
     "metadata": {},
     "output_type": "execute_result"
    }
   ],
   "source": [
    "response = requests.get(F\"https://aqs.epa.gov/data/api/qaCollocatedAssessments/byState?email={user_email}&key={user_key}&param=88101&bdate=20190101&edate=20190131&state=19\")\n",
    "print(response.status_code)\n",
    "response.text[0:500]  # Only print out the first 500 characters or so, the result is otherwise quite large"
   ]
  },
  {
   "cell_type": "code",
   "execution_count": 3,
   "metadata": {},
   "outputs": [],
   "source": [
    "df = pd.DataFrame.from_dict(response.json()['Data'])  # Converts the JSON to a DataFrame"
   ]
  },
  {
   "cell_type": "code",
   "execution_count": 4,
   "metadata": {},
   "outputs": [
    {
     "name": "stdout",
     "output_type": "stream",
     "text": [
      "Length of data frame is: 20\n",
      "Available Assessment Dates: {'2019-01-09', '2019-01-27', '2019-01-21', '2019-01-03', '2019-01-15'}\n",
      "Below is a table of the date and the PM2.5:\n"
     ]
    },
    {
     "data": {
      "text/html": [
       "<div>\n",
       "<style scoped>\n",
       "    .dataframe tbody tr th:only-of-type {\n",
       "        vertical-align: middle;\n",
       "    }\n",
       "\n",
       "    .dataframe tbody tr th {\n",
       "        vertical-align: top;\n",
       "    }\n",
       "\n",
       "    .dataframe thead th {\n",
       "        text-align: right;\n",
       "    }\n",
       "</style>\n",
       "<table border=\"1\" class=\"dataframe\">\n",
       "  <thead>\n",
       "    <tr style=\"text-align: right;\">\n",
       "      <th></th>\n",
       "      <th>assessment_date</th>\n",
       "      <th>assessment_value</th>\n",
       "    </tr>\n",
       "  </thead>\n",
       "  <tbody>\n",
       "    <tr>\n",
       "      <td>0</td>\n",
       "      <td>2019-01-03</td>\n",
       "      <td>3.7</td>\n",
       "    </tr>\n",
       "    <tr>\n",
       "      <td>1</td>\n",
       "      <td>2019-01-03</td>\n",
       "      <td>4.7</td>\n",
       "    </tr>\n",
       "    <tr>\n",
       "      <td>2</td>\n",
       "      <td>2019-01-03</td>\n",
       "      <td>6.5</td>\n",
       "    </tr>\n",
       "    <tr>\n",
       "      <td>3</td>\n",
       "      <td>2019-01-03</td>\n",
       "      <td>6.8</td>\n",
       "    </tr>\n",
       "    <tr>\n",
       "      <td>4</td>\n",
       "      <td>2019-01-09</td>\n",
       "      <td>4.0</td>\n",
       "    </tr>\n",
       "    <tr>\n",
       "      <td>5</td>\n",
       "      <td>2019-01-09</td>\n",
       "      <td>3.3</td>\n",
       "    </tr>\n",
       "    <tr>\n",
       "      <td>6</td>\n",
       "      <td>2019-01-09</td>\n",
       "      <td>3.9</td>\n",
       "    </tr>\n",
       "    <tr>\n",
       "      <td>7</td>\n",
       "      <td>2019-01-09</td>\n",
       "      <td>2.5</td>\n",
       "    </tr>\n",
       "    <tr>\n",
       "      <td>8</td>\n",
       "      <td>2019-01-15</td>\n",
       "      <td>8.5</td>\n",
       "    </tr>\n",
       "    <tr>\n",
       "      <td>9</td>\n",
       "      <td>2019-01-15</td>\n",
       "      <td>6.5</td>\n",
       "    </tr>\n",
       "    <tr>\n",
       "      <td>10</td>\n",
       "      <td>2019-01-15</td>\n",
       "      <td>7.5</td>\n",
       "    </tr>\n",
       "    <tr>\n",
       "      <td>11</td>\n",
       "      <td>2019-01-15</td>\n",
       "      <td>7.7</td>\n",
       "    </tr>\n",
       "    <tr>\n",
       "      <td>12</td>\n",
       "      <td>2019-01-21</td>\n",
       "      <td>5.2</td>\n",
       "    </tr>\n",
       "    <tr>\n",
       "      <td>13</td>\n",
       "      <td>2019-01-21</td>\n",
       "      <td>9.0</td>\n",
       "    </tr>\n",
       "    <tr>\n",
       "      <td>14</td>\n",
       "      <td>2019-01-21</td>\n",
       "      <td>7.8</td>\n",
       "    </tr>\n",
       "    <tr>\n",
       "      <td>15</td>\n",
       "      <td>2019-01-21</td>\n",
       "      <td>6.2</td>\n",
       "    </tr>\n",
       "    <tr>\n",
       "      <td>16</td>\n",
       "      <td>2019-01-27</td>\n",
       "      <td>12.6</td>\n",
       "    </tr>\n",
       "    <tr>\n",
       "      <td>17</td>\n",
       "      <td>2019-01-27</td>\n",
       "      <td>21.0</td>\n",
       "    </tr>\n",
       "    <tr>\n",
       "      <td>18</td>\n",
       "      <td>2019-01-27</td>\n",
       "      <td>12.6</td>\n",
       "    </tr>\n",
       "    <tr>\n",
       "      <td>19</td>\n",
       "      <td>2019-01-27</td>\n",
       "      <td>16.7</td>\n",
       "    </tr>\n",
       "  </tbody>\n",
       "</table>\n",
       "</div>"
      ],
      "text/plain": [
       "   assessment_date  assessment_value\n",
       "0       2019-01-03               3.7\n",
       "1       2019-01-03               4.7\n",
       "2       2019-01-03               6.5\n",
       "3       2019-01-03               6.8\n",
       "4       2019-01-09               4.0\n",
       "5       2019-01-09               3.3\n",
       "6       2019-01-09               3.9\n",
       "7       2019-01-09               2.5\n",
       "8       2019-01-15               8.5\n",
       "9       2019-01-15               6.5\n",
       "10      2019-01-15               7.5\n",
       "11      2019-01-15               7.7\n",
       "12      2019-01-21               5.2\n",
       "13      2019-01-21               9.0\n",
       "14      2019-01-21               7.8\n",
       "15      2019-01-21               6.2\n",
       "16      2019-01-27              12.6\n",
       "17      2019-01-27              21.0\n",
       "18      2019-01-27              12.6\n",
       "19      2019-01-27              16.7"
      ]
     },
     "execution_count": 4,
     "metadata": {},
     "output_type": "execute_result"
    }
   ],
   "source": [
    "print(F\"Length of data frame is: {len(df)}\")\n",
    "print(F\"Available Assessment Dates: {set(df['assessment_date'].tolist())}\")\n",
    "print(F\"Below is a table of the date and the PM2.5:\")\n",
    "df[['assessment_date', 'assessment_value']]"
   ]
  },
  {
   "cell_type": "code",
   "execution_count": null,
   "metadata": {},
   "outputs": [],
   "source": []
  }
 ],
 "metadata": {
  "kernelspec": {
   "display_name": "Python 3",
   "language": "python",
   "name": "python3"
  },
  "language_info": {
   "codemirror_mode": {
    "name": "ipython",
    "version": 3
   },
   "file_extension": ".py",
   "mimetype": "text/x-python",
   "name": "python",
   "nbconvert_exporter": "python",
   "pygments_lexer": "ipython3",
   "version": "3.7.4"
  }
 },
 "nbformat": 4,
 "nbformat_minor": 4
}
